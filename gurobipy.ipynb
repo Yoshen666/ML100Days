{
  "nbformat": 4,
  "nbformat_minor": 0,
  "metadata": {
    "colab": {
      "provenance": [],
      "authorship_tag": "ABX9TyNtKmWcX+ZDvU4bpyLYow99",
      "include_colab_link": true
    },
    "kernelspec": {
      "name": "python3",
      "display_name": "Python 3"
    },
    "language_info": {
      "name": "python"
    }
  },
  "cells": [
    {
      "cell_type": "markdown",
      "metadata": {
        "id": "view-in-github",
        "colab_type": "text"
      },
      "source": [
        "<a href=\"https://colab.research.google.com/github/Yoshen666/ML100Days/blob/main/gurobipy.ipynb\" target=\"_parent\"><img src=\"https://colab.research.google.com/assets/colab-badge.svg\" alt=\"Open In Colab\"/></a>"
      ]
    },
    {
      "cell_type": "code",
      "execution_count": null,
      "metadata": {
        "colab": {
          "base_uri": "https://localhost:8080/"
        },
        "id": "FWghARg4pU3F",
        "outputId": "a0de9f72-3311-4de0-9874-e060fdde7d1a"
      },
      "outputs": [
        {
          "output_type": "stream",
          "name": "stdout",
          "text": [
            "Looking in indexes: https://pypi.org/simple, https://us-python.pkg.dev/colab-wheels/public/simple/\n",
            "Requirement already satisfied: gurobipy in /usr/local/lib/python3.7/dist-packages (9.5.2)\n"
          ]
        }
      ],
      "source": [
        "pip install gurobipy"
      ]
    },
    {
      "cell_type": "code",
      "source": [
        "import gurobipy as gp"
      ],
      "metadata": {
        "id": "MziD8u1GpVy9"
      },
      "execution_count": 271,
      "outputs": []
    },
    {
      "cell_type": "code",
      "source": [
        "model_size_limited = gp.Model()"
      ],
      "metadata": {
        "id": "xARIVJC1pWk4"
      },
      "execution_count": 272,
      "outputs": []
    },
    {
      "cell_type": "code",
      "source": [
        "from gurobipy import* #導入Gurobi函式庫"
      ],
      "metadata": {
        "id": "lkJl4G_2pXQg"
      },
      "execution_count": 273,
      "outputs": []
    },
    {
      "cell_type": "code",
      "source": [
        "m=Model('mip1') # 建立一個新的model，並傳至m"
      ],
      "metadata": {
        "id": "KEmYT3aUpX-0"
      },
      "execution_count": 274,
      "outputs": []
    },
    {
      "cell_type": "code",
      "source": [
        "#m.reset()"
      ],
      "metadata": {
        "id": "kqXORViZar5a"
      },
      "execution_count": 275,
      "outputs": []
    },
    {
      "cell_type": "code",
      "source": [
        "m.update() #更新此model"
      ],
      "metadata": {
        "id": "RPTZuhGLpYvR"
      },
      "execution_count": 276,
      "outputs": []
    },
    {
      "cell_type": "code",
      "source": [
        "d = [(13,35,42,9),\n",
        "    (6,61,18,30),\n",
        "    (15,10,5,9)]"
      ],
      "metadata": {
        "id": "0v2MTMYvpZex"
      },
      "execution_count": 277,
      "outputs": []
    },
    {
      "cell_type": "code",
      "source": [
        "x = m.addVars(3,4)"
      ],
      "metadata": {
        "id": "ls7VWQ9i-LhU"
      },
      "execution_count": 278,
      "outputs": []
    },
    {
      "cell_type": "code",
      "source": [
        "x_1=m.addVar(lb=0,ub=1,vtype=GRB.INTEGER,name='x_1')\n",
        "for i in range(0,3):\n",
        "  for j in range(0,4):\n",
        "    x[i,j]=x_1"
      ],
      "metadata": {
        "id": "lnphUWgjL-Ja"
      },
      "execution_count": 283,
      "outputs": []
    },
    {
      "cell_type": "code",
      "source": [
        "for i in range(0,3) :\n",
        "  for j in range(0,4):\n",
        "    print(d[i][j]*x[i,j])"
      ],
      "metadata": {
        "colab": {
          "base_uri": "https://localhost:8080/"
        },
        "id": "I7CVFD3LXsjE",
        "outputId": "6efa4450-4b79-496b-9f7e-55b52f3060b1"
      },
      "execution_count": 304,
      "outputs": [
        {
          "output_type": "stream",
          "name": "stdout",
          "text": [
            "<gurobi.LinExpr: 13.0 x_1>\n",
            "<gurobi.LinExpr: 35.0 x_1>\n",
            "<gurobi.LinExpr: 42.0 x_1>\n",
            "<gurobi.LinExpr: 9.0 x_1>\n",
            "<gurobi.LinExpr: 6.0 x_1>\n",
            "<gurobi.LinExpr: 61.0 x_1>\n",
            "<gurobi.LinExpr: 18.0 x_1>\n",
            "<gurobi.LinExpr: 30.0 x_1>\n",
            "<gurobi.LinExpr: 15.0 x_1>\n",
            "<gurobi.LinExpr: 10.0 x_1>\n",
            "<gurobi.LinExpr: 5.0 x_1>\n",
            "<gurobi.LinExpr: 9.0 x_1>\n"
          ]
        }
      ]
    },
    {
      "cell_type": "code",
      "source": [
        "m.setObjective(sum((d[i][j]*x[i,j])/10 for i in range(0,3) for j in range(0,4) ),GRB.MINIMIZE)\n",
        "\n",
        "\n",
        "m.addConstr(x[0,0]+x[0,1]+x[0,2]+x[0,3]<=4)\n",
        "m.addConstr(x[1,0]+x[1,1]+x[1,2]+x[1,3]<=1)\n",
        "m.addConstr(x[2,0]+x[2,1]+x[2,2]+x[2,3]<=2)\n",
        "\n",
        "m.addConstr(x[0,0]+x[1,0]+x[2,0] == 1)\n",
        "m.addConstr(x[0,1]+x[1,1]+x[2,1] == 1)\n",
        "m.addConstr(x[0,2]+x[1,2]+x[2,2] == 1)\n",
        "m.addConstr(x[0,3]+x[1,3]+x[2,3] == 1)\n",
        "\n",
        "m.addConstr(x[0,0]+x[1,0]+x[2,0]+x[0,1]+x[1,1]+x[2,1]+x[0,2]+x[1,2]+x[2,2]+x[0,3]+x[1,3]+x[2,3] == 4)"
      ],
      "metadata": {
        "id": "QwOvNFYo_eDS",
        "colab": {
          "base_uri": "https://localhost:8080/"
        },
        "outputId": "72966e30-91a4-439b-c522-850db26d2a1c"
      },
      "execution_count": 325,
      "outputs": [
        {
          "output_type": "execute_result",
          "data": {
            "text/plain": [
              "<gurobi.Constr *Awaiting Model Update*>"
            ]
          },
          "metadata": {},
          "execution_count": 325
        }
      ]
    },
    {
      "cell_type": "code",
      "source": [
        "m.optimize()"
      ],
      "metadata": {
        "id": "CRdwgzk-E0vj",
        "colab": {
          "base_uri": "https://localhost:8080/"
        },
        "outputId": "48c4ffe2-dade-4e4a-d564-9d9ae60eed83"
      },
      "execution_count": 326,
      "outputs": [
        {
          "output_type": "stream",
          "name": "stdout",
          "text": [
            "Gurobi Optimizer version 9.5.2 build v9.5.2rc0 (linux64)\n",
            "Thread count: 1 physical cores, 2 logical processors, using up to 2 threads\n",
            "Optimize a model with 117 rows, 14 columns and 117 nonzeros\n",
            "Model fingerprint: 0x7942f351\n",
            "Variable types: 13 continuous, 1 integer (0 binary)\n",
            "Coefficient statistics:\n",
            "  Matrix range     [1e+00, 1e+01]\n",
            "  Objective range  [3e+01, 3e+01]\n",
            "  Bounds range     [1e+00, 1e+00]\n",
            "  RHS range        [1e+00, 5e+00]\n",
            "Presolve removed 18 rows and 12 columns\n",
            "Presolve time: 0.00s\n",
            "\n",
            "Explored 0 nodes (0 simplex iterations) in 0.02 seconds (0.00 work units)\n",
            "Thread count was 1 (of 2 available processors)\n",
            "\n",
            "Solution count 0\n",
            "\n",
            "Model is infeasible\n",
            "Best objective -, best bound -, gap -\n"
          ]
        }
      ]
    },
    {
      "cell_type": "code",
      "source": [
        "print('Obj: %g' % m.objVal)"
      ],
      "metadata": {
        "colab": {
          "base_uri": "https://localhost:8080/",
          "height": 280
        },
        "id": "EkzzIMqhFrrE",
        "outputId": "6ebc509e-51aa-4da1-a28d-1a514db9bffc"
      },
      "execution_count": 320,
      "outputs": [
        {
          "output_type": "error",
          "ename": "AttributeError",
          "evalue": "ignored",
          "traceback": [
            "\u001b[0;31m---------------------------------------------------------------------------\u001b[0m",
            "\u001b[0;31mAttributeError\u001b[0m                            Traceback (most recent call last)",
            "\u001b[0;32m<ipython-input-320-5eb4825ff6ad>\u001b[0m in \u001b[0;36m<module>\u001b[0;34m\u001b[0m\n\u001b[0;32m----> 1\u001b[0;31m \u001b[0mprint\u001b[0m\u001b[0;34m(\u001b[0m\u001b[0;34m'Obj: %g'\u001b[0m \u001b[0;34m%\u001b[0m \u001b[0mm\u001b[0m\u001b[0;34m.\u001b[0m\u001b[0mobRng\u001b[0m\u001b[0;34m)\u001b[0m\u001b[0;34m\u001b[0m\u001b[0;34m\u001b[0m\u001b[0m\n\u001b[0m",
            "\u001b[0;32msrc/gurobipy/model.pxi\u001b[0m in \u001b[0;36mgurobipy.Model.__getattr__\u001b[0;34m()\u001b[0m\n",
            "\u001b[0;32msrc/gurobipy/model.pxi\u001b[0m in \u001b[0;36mgurobipy.Model.getAttr\u001b[0;34m()\u001b[0m\n",
            "\u001b[0;32msrc/gurobipy/attrutil.pxi\u001b[0m in \u001b[0;36mgurobipy.__getattrinfo\u001b[0;34m()\u001b[0m\n",
            "\u001b[0;31mAttributeError\u001b[0m: 'gurobipy.Model' object has no attribute 'obRng'"
          ]
        }
      ]
    },
    {
      "cell_type": "code",
      "source": [
        "print(m.getAttr('x_1',m.getVars))"
      ],
      "metadata": {
        "id": "iaB2yX3CGM7q",
        "colab": {
          "base_uri": "https://localhost:8080/",
          "height": 244
        },
        "outputId": "0a8d072d-4f0e-4caa-ea42-e6e3faf09470"
      },
      "execution_count": 324,
      "outputs": [
        {
          "output_type": "error",
          "ename": "AttributeError",
          "evalue": "ignored",
          "traceback": [
            "\u001b[0;31m---------------------------------------------------------------------------\u001b[0m",
            "\u001b[0;31mAttributeError\u001b[0m                            Traceback (most recent call last)",
            "\u001b[0;32m<ipython-input-324-b62e80385a22>\u001b[0m in \u001b[0;36m<module>\u001b[0;34m\u001b[0m\n\u001b[0;32m----> 1\u001b[0;31m \u001b[0mprint\u001b[0m\u001b[0;34m(\u001b[0m\u001b[0mm\u001b[0m\u001b[0;34m.\u001b[0m\u001b[0mgetAttr\u001b[0m\u001b[0;34m(\u001b[0m\u001b[0;34m'x_1'\u001b[0m\u001b[0;34m,\u001b[0m\u001b[0mm\u001b[0m\u001b[0;34m.\u001b[0m\u001b[0mgetVars\u001b[0m\u001b[0;34m)\u001b[0m\u001b[0;34m)\u001b[0m\u001b[0;34m\u001b[0m\u001b[0;34m\u001b[0m\u001b[0m\n\u001b[0m",
            "\u001b[0;32msrc/gurobipy/model.pxi\u001b[0m in \u001b[0;36mgurobipy.Model.getAttr\u001b[0;34m()\u001b[0m\n",
            "\u001b[0;32msrc/gurobipy/attrutil.pxi\u001b[0m in \u001b[0;36mgurobipy.__getattrinfo\u001b[0;34m()\u001b[0m\n",
            "\u001b[0;31mAttributeError\u001b[0m: 'gurobipy.Model' object has no attribute 'x_1'"
          ]
        }
      ]
    },
    {
      "cell_type": "code",
      "source": [],
      "metadata": {
        "id": "F1YA5Cz-fzKG"
      },
      "execution_count": null,
      "outputs": []
    }
  ]
}