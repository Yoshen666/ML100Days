{
 "cells": [
  {
   "cell_type": "code",
   "execution_count": 1,
   "metadata": {},
   "outputs": [],
   "source": [
    "import numpy as np"
   ]
  },
  {
   "cell_type": "code",
   "execution_count": 23,
   "metadata": {},
   "outputs": [
    {
     "data": {
      "text/plain": [
       "60.0"
      ]
     },
     "execution_count": 23,
     "metadata": {},
     "output_type": "execute_result"
    }
   ],
   "source": [
    "#1.正常的談話的聲壓為 20000 微巴斯卡，請問多少分貝?\n",
    "V1 = 20000\n",
    "V0 = 20\n",
    "\n",
    "Gdb0 = 20*np.log10(V1/V0)\n",
    "Gdb0"
   ]
  },
  {
   "cell_type": "code",
   "execution_count": 32,
   "metadata": {},
   "outputs": [
    {
     "name": "stdout",
     "output_type": "stream",
     "text": [
      "30分貝的聲壓為: 31.622776601683793\n",
      "50分貝的聲壓為: 316.22776601683796\n",
      "30分貝的聲壓是50分貝的: 0.09999999999999999 倍\n"
     ]
    }
   ],
   "source": [
    "#loga(x)= t x=a^t\n",
    "#2.30分貝的聲壓會是50分貝的幾倍?\n",
    "#公式移項過後可以得到 V1 = ?\n",
    "V0=20\n",
    "V01 = np.power(10,1.5)\n",
    "V02 = np.power(10,2.5)\n",
    "#30 = 20*np.log10(V1/V0)\n",
    "#1.5 = np.log10(V1/V0)\n",
    "#(V1/V0)=10^1.5\n",
    "\n",
    "#50 = 20*np.log10(V2/V0)\n",
    "#2.5 = np.log10(V2/V0) \n",
    "#(V2/V0)=10^2.5\n",
    "print(\"30分貝的聲壓為:\",V01)\n",
    "print(\"50分貝的聲壓為:\",V02)\n",
    "print(\"30分貝的聲壓是50分貝的:\",V01/V02,\"倍\")"
   ]
  },
  {
   "cell_type": "code",
   "execution_count": null,
   "metadata": {},
   "outputs": [],
   "source": []
  },
  {
   "cell_type": "code",
   "execution_count": null,
   "metadata": {},
   "outputs": [],
   "source": []
  },
  {
   "cell_type": "code",
   "execution_count": null,
   "metadata": {},
   "outputs": [],
   "source": []
  },
  {
   "cell_type": "code",
   "execution_count": null,
   "metadata": {},
   "outputs": [],
   "source": []
  }
 ],
 "metadata": {
  "kernelspec": {
   "display_name": "Python 3",
   "language": "python",
   "name": "python3"
  },
  "language_info": {
   "codemirror_mode": {
    "name": "ipython",
    "version": 3
   },
   "file_extension": ".py",
   "mimetype": "text/x-python",
   "name": "python",
   "nbconvert_exporter": "python",
   "pygments_lexer": "ipython3",
   "version": "3.7.3"
  }
 },
 "nbformat": 4,
 "nbformat_minor": 2
}
