{
 "cells": [
  {
   "cell_type": "code",
   "execution_count": 1,
   "metadata": {},
   "outputs": [],
   "source": [
    "import numpy as np\n",
    "english_score = np.array([55,89,76,65,48,70])\n",
    "\n",
    "math_score = np.array([60,85,60,68,np.nan,60])\n",
    "\n",
    "chinese_score = np.array([65,90,82,72,66,77])\n",
    "\n",
    "#1.請計算各科成績平均、最大值、最小值、標準差，其中數學缺一筆資料可忽略？\n",
    "#2.第五位同學補考數學後成績為 55，請計算補考後數學成績平均、最大值、最小值、標準差？\n",
    "#3.用補考後資料找出與國文成績相關係數最高的學科？"
   ]
  },
  {
   "cell_type": "code",
   "execution_count": 14,
   "metadata": {},
   "outputs": [
    {
     "name": "stdout",
     "output_type": "stream",
     "text": [
      "英文成績的平均、最大值、最小值、標準差為: 67.16666666666667 89 48 13.433995020924426 \n",
      " 數學成績的平均、最大值、最小值、標準差為: 66.6 85.0 60.0 9.707728879609279 \n",
      " 國文成績的平均、最大值、最小值、標準差為: 75.33333333333333 90 65 8.825468196582484\n"
     ]
    }
   ],
   "source": [
    "Emean = np.nanmean(english_score)\n",
    "Mmean = np.nanmean(math_score)\n",
    "Cmean = np.nanmean(chinese_score)\n",
    "Emax = np.nanmax(english_score)\n",
    "Mmax = np.nanmax(math_score)\n",
    "Cmax = np.nanmax(chinese_score)\n",
    "Emin = np.nanmin(english_score)\n",
    "Mmin = np.nanmin(math_score)\n",
    "Cmin = np.nanmin(chinese_score)\n",
    "Estd = np.nanstd(english_score)\n",
    "Mstd = np.nanstd(math_score)\n",
    "Cstd = np.nanstd(chinese_score)\n",
    "print(\"英文成績的平均、最大值、最小值、標準差為:\",Emean,Emax,Emin,Estd,\"\\n\",\n",
    "      \"數學成績的平均、最大值、最小值、標準差為:\",Mmean,Mmax,Mmin,Mstd,\"\\n\",\n",
    "      \"國文成績的平均、最大值、最小值、標準差為:\",Cmean,Cmax,Cmin,Cstd)"
   ]
  },
  {
   "cell_type": "code",
   "execution_count": 18,
   "metadata": {},
   "outputs": [
    {
     "name": "stdout",
     "output_type": "stream",
     "text": [
      "數學補考成績的平均、最大值、最小值、標準差為: 64.66666666666667 85 55 9.860132971832694\n"
     ]
    }
   ],
   "source": [
    "math_score = np.array([60,85,60,68,55,60])\n",
    "Mmean1 = np.nanmean(math_score)\n",
    "Mmax1 = np.nanmax(math_score)\n",
    "Mmin1 = np.nanmin(math_score)\n",
    "Mstd1 = np.nanstd(math_score)\n",
    "print(\"數學補考成績的平均、最大值、最小值、標準差為:\",Mmean1,Mmax1,Mmin1,Mstd1)"
   ]
  },
  {
   "cell_type": "code",
   "execution_count": 39,
   "metadata": {},
   "outputs": [
    {
     "name": "stdout",
     "output_type": "stream",
     "text": [
      "[[1.         0.97792828]\n",
      " [0.97792828 1.        ]] \n",
      " [[1.         0.74056803]\n",
      " [0.74056803 1.        ]]\n",
      "英文與國文的相關係數較高\n"
     ]
    }
   ],
   "source": [
    "MC = np.corrcoef(math_score,chinese_score)\n",
    "EC = np.corrcoef(english_score,chinese_score)\n",
    "print(EC,\"\\n\",MC)\n",
    "print(\"英文與國文的相關係數較高\")"
   ]
  },
  {
   "cell_type": "code",
   "execution_count": null,
   "metadata": {},
   "outputs": [],
   "source": []
  }
 ],
 "metadata": {
  "kernelspec": {
   "display_name": "Python 3",
   "language": "python",
   "name": "python3"
  },
  "language_info": {
   "codemirror_mode": {
    "name": "ipython",
    "version": 3
   },
   "file_extension": ".py",
   "mimetype": "text/x-python",
   "name": "python",
   "nbconvert_exporter": "python",
   "pygments_lexer": "ipython3",
   "version": "3.7.3"
  }
 },
 "nbformat": 4,
 "nbformat_minor": 2
}
