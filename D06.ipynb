{
 "cells": [
  {
   "cell_type": "code",
   "execution_count": 1,
   "metadata": {},
   "outputs": [],
   "source": [
    "import numpy as np\n",
    "#. 將下兩列array存成npz檔\n",
    "array1 = np.array(range(30))\n",
    "array2 = np.array([2,3,5])"
   ]
  },
  {
   "cell_type": "code",
   "execution_count": 44,
   "metadata": {},
   "outputs": [
    {
     "name": "stdout",
     "output_type": "stream",
     "text": [
      "[ 0  1  2  3  4  5  6  7  8  9 10 11 12 13 14 15 16 17 18 19 20 21 22 23\n",
      " 24 25 26 27 28 29]\n",
      "[2 3 5]\n"
     ]
    }
   ],
   "source": [
    "np.savez('my_array',array1=array1,array2=array2)\n",
    "file1=np.load('my_array.npz')\n",
    "file1.files\n",
    "print(file1['array1'])\n",
    "print(file1['array2'])"
   ]
  },
  {
   "cell_type": "code",
   "execution_count": 56,
   "metadata": {},
   "outputs": [
    {
     "name": "stdout",
     "output_type": "stream",
     "text": [
      "[0 1 2 3 4 5 6 7 8 9]\n",
      "[1 2 3]\n",
      "[0.5788873  0.69082947 0.04922545 0.86517602 0.29889969 0.55285575\n",
      " 0.69389689 0.49183867 0.8308363  0.06454569]\n"
     ]
    }
   ],
   "source": [
    "file2=np.load('multi_array.npz')\n",
    "file1.files\n",
    "array3=file2['array1']\n",
    "array4=file2['array2']\n",
    "np.savez('my_array',array3=array3,array4=array4)\n",
    "\n",
    "file3=np.load('multi_array.npz')\n",
    "file3.files\n",
    "print(file3['array1'])\n",
    "print(file3['array2'])\n",
    "print(file3['array3'])"
   ]
  },
  {
   "cell_type": "code",
   "execution_count": null,
   "metadata": {},
   "outputs": [],
   "source": []
  }
 ],
 "metadata": {
  "kernelspec": {
   "display_name": "Python 3",
   "language": "python",
   "name": "python3"
  },
  "language_info": {
   "codemirror_mode": {
    "name": "ipython",
    "version": 3
   },
   "file_extension": ".py",
   "mimetype": "text/x-python",
   "name": "python",
   "nbconvert_exporter": "python",
   "pygments_lexer": "ipython3",
   "version": "3.7.3"
  }
 },
 "nbformat": 4,
 "nbformat_minor": 2
}
